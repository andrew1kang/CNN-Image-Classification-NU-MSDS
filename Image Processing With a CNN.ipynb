{
 "cells": [
  {
   "cell_type": "markdown",
   "metadata": {},
   "source": [
    "## Assignment 7 - Image Processing With a CNN\n",
    "### Andrew Kang - MSDS 422\n",
    "\n",
    "To classify our images, we will utilize [1,0] for \"dogs\" and [0,1] for \"cats\" as labels.  We have selected our model to train for roughly 5 minutes per model, which is mainly due to time and computation limitations.  Despite this, we expect to be able to evaluate the power of different optimizers and the effect of the learning rate on our convolutional neural network. "
   ]
  },
  {
   "cell_type": "code",
   "execution_count": 72,
   "metadata": {},
   "outputs": [],
   "source": [
    "import os, cv2, random\n",
    "import numpy as np\n",
    "import pandas as pd\n",
    "\n",
    "import datetime\n",
    "from datetime import datetime\n",
    "from random import shuffle\n",
    "\n",
    "import tensorflow as tf\n",
    "from tensorflow import keras\n",
    "from keras import optimizers\n",
    "from keras.models import Sequential\n",
    "from keras.layers import Dense, Flatten, Dropout, Activation, Conv2D, MaxPooling2D\n",
    "from keras.optimizers import Adadelta, RMSprop, Adam, SGD\n",
    "from keras.losses import categorical_crossentropy\n",
    "from keras.wrappers.scikit_learn import KerasClassifier"
   ]
  },
  {
   "cell_type": "markdown",
   "metadata": {},
   "source": [
    "### Data  Preparation\n",
    "In this section, we will look to label our images that are stored in train and test folders respectively.  In addition, we will code the labels and create functions for evaluating the training set."
   ]
  },
  {
   "cell_type": "code",
   "execution_count": 4,
   "metadata": {},
   "outputs": [],
   "source": [
    "TRAIN_DIR = \"C:\\\\Users\\\\Andrew Kang\\\\2019_OneDrive\\\\OneDrive\\\\MSDS\\\\422\\\\Week 7\\\\train\"\n",
    "TEST_DIR = \"C:\\\\Users\\\\Andrew Kang\\\\2019_OneDrive\\\\OneDrive\\\\MSDS\\\\422\\\\Week 7\\\\test\""
   ]
  },
  {
   "cell_type": "code",
   "execution_count": 5,
   "metadata": {},
   "outputs": [],
   "source": [
    "IMG_SIZE = 64"
   ]
  },
  {
   "cell_type": "code",
   "execution_count": 6,
   "metadata": {},
   "outputs": [],
   "source": [
    "def label_image(img):\n",
    "    world_label = img.split('.')[0]\n",
    "    if world_label == \"dog\": return [1,0]\n",
    "    elif world_label == 'cat' : return [0,1]"
   ]
  },
  {
   "cell_type": "code",
   "execution_count": 7,
   "metadata": {},
   "outputs": [],
   "source": [
    "def create_training_data():\n",
    "    training_data = []\n",
    "    for img in os.listdir(TRAIN_DIR):\n",
    "        label = label_image(img)\n",
    "        path = os.path.join(TRAIN_DIR, img)\n",
    "        img = cv2.resize(cv2.imread(path, cv2.IMREAD_GRAYSCALE), (IMG_SIZE, IMG_SIZE))\n",
    "        training_data.append([np.array(img), label])\n",
    "    shuffle(training_data)\n",
    "    np.save(\"training_data.npy\", training_data)\n",
    "    return training_data"
   ]
  },
  {
   "cell_type": "code",
   "execution_count": 9,
   "metadata": {},
   "outputs": [],
   "source": [
    "# training_data = create_training_data()"
   ]
  },
  {
   "cell_type": "code",
   "execution_count": 10,
   "metadata": {},
   "outputs": [],
   "source": [
    "training_data = np.load(\"training_data.npy\")"
   ]
  },
  {
   "cell_type": "code",
   "execution_count": 11,
   "metadata": {},
   "outputs": [],
   "source": [
    "X_train_data = np.array([i[0] for i in training_data]).reshape(-1, IMG_SIZE, IMG_SIZE, 1)\n",
    "y_train_data = np.array([i[1] for i in training_data])"
   ]
  },
  {
   "cell_type": "markdown",
   "metadata": {},
   "source": [
    "### Set Up Train and Test Sets for Cats and Dogs Image Classification\n",
    "We will utilize an 80/20 split to create our train and test set based on the labeled data that was within the train folder.  Additionally, we will need to normalize the data to achieve best results with our convolutional neural network."
   ]
  },
  {
   "cell_type": "code",
   "execution_count": 12,
   "metadata": {},
   "outputs": [],
   "source": [
    "RANDOM_SEED = 1"
   ]
  },
  {
   "cell_type": "code",
   "execution_count": 13,
   "metadata": {},
   "outputs": [],
   "source": [
    "from sklearn.model_selection import train_test_split\n",
    "X_train, X_test, y_train, y_test = train_test_split(X_train_data, y_train_data, test_size = .2, random_state=RANDOM_SEED)"
   ]
  },
  {
   "cell_type": "code",
   "execution_count": 14,
   "metadata": {},
   "outputs": [],
   "source": [
    "X_train = tf.keras.utils.normalize(X_train, axis = 1)\n",
    "X_test = tf.keras.utils.normalize(X_test, axis = 1)"
   ]
  },
  {
   "cell_type": "markdown",
   "metadata": {},
   "source": [
    "### Model Preparation"
   ]
  },
  {
   "cell_type": "code",
   "execution_count": 16,
   "metadata": {},
   "outputs": [],
   "source": [
    "optimizer_dict = {\n",
    "    \"Adam_LR_.001\": tf.train.AdamOptimizer(learning_rate = .001),\n",
    "    \"Adam_LR_.0001\": tf.train.AdamOptimizer(learning_rate = .0001),\n",
    "    \"RMSProp_LR_.001\": tf.train.RMSPropOptimizer(learning_rate = .001),\n",
    "    \"RMSProp_LR_.0001\":tf.train.RMSPropOptimizer(learning_rate = .0001)}"
   ]
  },
  {
   "cell_type": "code",
   "execution_count": 17,
   "metadata": {},
   "outputs": [],
   "source": [
    "optimizers = [\"Adam_LR_.001\",\"Adam_LR_.0001\",\"RMSProp_LR_.001\",\"RMSProp_LR_.0001\"]"
   ]
  },
  {
   "cell_type": "code",
   "execution_count": 22,
   "metadata": {},
   "outputs": [],
   "source": [
    "batch_size_list = []\n",
    "optimizer_list = []\n",
    "train_acc_list = []\n",
    "test_acc_list = []\n",
    "proc_list = []"
   ]
  },
  {
   "cell_type": "markdown",
   "metadata": {},
   "source": [
    "### Model 1 Training - Adam Optimizer with .001 Learning Rate"
   ]
  },
  {
   "cell_type": "code",
   "execution_count": 23,
   "metadata": {
    "scrolled": false
   },
   "outputs": [
    {
     "name": "stdout",
     "output_type": "stream",
     "text": [
      "Optimizer:  Adam_LR_.001\n",
      "Train on 20000 samples, validate on 5000 samples\n",
      "Epoch 1/5\n",
      "20000/20000 [==============================] - 49s 2ms/step - loss: 0.6937 - acc: 0.4960 - val_loss: 0.6932 - val_acc: 0.4956\n",
      "Epoch 2/5\n",
      "20000/20000 [==============================] - 48s 2ms/step - loss: 0.6932 - acc: 0.5000 - val_loss: 0.6932 - val_acc: 0.5002\n",
      "Epoch 3/5\n",
      "20000/20000 [==============================] - 48s 2ms/step - loss: 0.6862 - acc: 0.5383 - val_loss: 0.6570 - val_acc: 0.6336\n",
      "Epoch 4/5\n",
      "20000/20000 [==============================] - 48s 2ms/step - loss: 0.6305 - acc: 0.6498 - val_loss: 0.6106 - val_acc: 0.6726\n",
      "Epoch 5/5\n",
      "20000/20000 [==============================] - 48s 2ms/step - loss: 0.5990 - acc: 0.6848 - val_loss: 0.5974 - val_acc: 0.6830\n",
      "20000/20000 [==============================] - 14s 712us/step\n",
      "5000/5000 [==============================] - 3s 696us/step\n",
      "Training Accuracy:  0.6982\n",
      "Test Accuracy:  0.683\n",
      "Processing Time:  0:04:01.874145\n"
     ]
    }
   ],
   "source": [
    "print(\"Optimizer: \", optimizers[0])\n",
    "model1 = Sequential()\n",
    "model1.add(Conv2D(32, (2, 2), \n",
    "                 activation='relu', \n",
    "                 input_shape=X_train.shape[1:],\n",
    "                 padding='same'))\n",
    "model1.add(MaxPooling2D((2, 2)))\n",
    "model1.add(Conv2D(32, (2, 2), \n",
    "                 activation='relu', \n",
    "                 input_shape=X_train.shape[1:], \n",
    "                 padding='same'))\n",
    "model1.add(MaxPooling2D((2, 2)))\n",
    "model1.add(Flatten())\n",
    "model1.add(Dense(128, \n",
    "                activation='relu'))\n",
    "model1.add(Dense(2, \n",
    "                activation='sigmoid'))\n",
    "\n",
    "model1.compile(optimizer=optimizer_dict[optimizers[0]], loss='binary_crossentropy', metrics=['accuracy'])\n",
    "\n",
    "start = datetime.now()\n",
    "model1.fit(X_train, y_train, validation_data=(X_test, y_test), epochs=5)\n",
    "end = datetime.now()\n",
    "processing_time = end-start\n",
    "score_train,acc_train = model1.evaluate(X_train,y_train)\n",
    "score_test,acc_test = model1.evaluate(X_test,y_test)\n",
    "\n",
    "print(\"Training Accuracy: \", acc_train)\n",
    "print(\"Test Accuracy: \", acc_test)\n",
    "print(\"Processing Time: \", processing_time)\n",
    "\n",
    "optimizer_list.append(optimizers[0])\n",
    "train_acc_list.append(acc_train)\n",
    "test_acc_list.append(acc_test)\n",
    "proc_list.append(processing_time)"
   ]
  },
  {
   "cell_type": "markdown",
   "metadata": {},
   "source": [
    "### Model 2 Training - Adam Optimizer with .0001 Learning Rate"
   ]
  },
  {
   "cell_type": "code",
   "execution_count": 24,
   "metadata": {
    "scrolled": false
   },
   "outputs": [
    {
     "name": "stdout",
     "output_type": "stream",
     "text": [
      "Optimizer:  Adam_LR_.0001\n",
      "Train on 20000 samples, validate on 5000 samples\n",
      "Epoch 1/5\n",
      "20000/20000 [==============================] - 48s 2ms/step - loss: 0.6703 - acc: 0.5917 - val_loss: 0.6620 - val_acc: 0.5851\n",
      "Epoch 2/5\n",
      "20000/20000 [==============================] - 48s 2ms/step - loss: 0.6158 - acc: 0.6687 - val_loss: 0.5986 - val_acc: 0.6776\n",
      "Epoch 3/5\n",
      "20000/20000 [==============================] - 48s 2ms/step - loss: 0.5952 - acc: 0.6825 - val_loss: 0.5869 - val_acc: 0.6912\n",
      "Epoch 4/5\n",
      "20000/20000 [==============================] - 49s 2ms/step - loss: 0.5806 - acc: 0.7006 - val_loss: 0.5761 - val_acc: 0.7015\n",
      "Epoch 5/5\n",
      "20000/20000 [==============================] - 48s 2ms/step - loss: 0.5672 - acc: 0.7103 - val_loss: 0.5656 - val_acc: 0.7124\n",
      "20000/20000 [==============================] - 15s 730us/step\n",
      "5000/5000 [==============================] - 4s 716us/step\n",
      "Training Accuracy:  0.72525\n",
      "Test Accuracy:  0.7124\n",
      "Processing Time:  0:04:01.386216\n"
     ]
    }
   ],
   "source": [
    "print(\"Optimizer: \", optimizers[1])\n",
    "model2 = Sequential()\n",
    "model2.add(Conv2D(32, (2, 2), \n",
    "                 activation='relu', \n",
    "                 input_shape=X_train.shape[1:],\n",
    "                 padding='same'))\n",
    "model2.add(MaxPooling2D((2, 2)))\n",
    "model2.add(Conv2D(32, (2, 2), \n",
    "                 activation='relu', \n",
    "                 input_shape=X_train.shape[1:], \n",
    "                 padding='same'))\n",
    "model2.add(MaxPooling2D((2, 2)))\n",
    "model2.add(Flatten())\n",
    "model2.add(Dense(128, \n",
    "                activation='relu'))\n",
    "model2.add(Dense(2, \n",
    "                activation='sigmoid'))\n",
    "\n",
    "model2.compile(optimizer=optimizer_dict[optimizers[1]], loss='binary_crossentropy', metrics=['accuracy'])\n",
    "\n",
    "start = datetime.now()\n",
    "model2.fit(X_train, y_train, validation_data=(X_test, y_test), epochs=5)\n",
    "end = datetime.now()\n",
    "processing_time = end-start\n",
    "score_train,acc_train = model2.evaluate(X_train,y_train)\n",
    "score_test,acc_test = model2.evaluate(X_test,y_test)\n",
    "\n",
    "print(\"Training Accuracy: \", acc_train)\n",
    "print(\"Test Accuracy: \", acc_test)\n",
    "print(\"Processing Time: \", processing_time)\n",
    "\n",
    "optimizer_list.append(optimizers[1])\n",
    "train_acc_list.append(acc_train)\n",
    "test_acc_list.append(acc_test)\n",
    "proc_list.append(processing_time)"
   ]
  },
  {
   "cell_type": "markdown",
   "metadata": {},
   "source": [
    "### Model 3 Training - RMS Prop Optimizer with .001 Learning Rate"
   ]
  },
  {
   "cell_type": "code",
   "execution_count": 25,
   "metadata": {},
   "outputs": [
    {
     "name": "stdout",
     "output_type": "stream",
     "text": [
      "Optimizer:  RMSProp_LR_.001\n",
      "Train on 20000 samples, validate on 5000 samples\n",
      "Epoch 1/5\n",
      "20000/20000 [==============================] - 49s 2ms/step - loss: 0.6591 - acc: 0.5919 - val_loss: 0.7507 - val_acc: 0.5555\n",
      "Epoch 2/5\n",
      "20000/20000 [==============================] - 48s 2ms/step - loss: 0.5597 - acc: 0.7110 - val_loss: 0.5255 - val_acc: 0.7391\n",
      "Epoch 3/5\n",
      "20000/20000 [==============================] - 47s 2ms/step - loss: 0.5019 - acc: 0.7561 - val_loss: 0.5221 - val_acc: 0.7464\n",
      "Epoch 4/5\n",
      "20000/20000 [==============================] - 48s 2ms/step - loss: 0.4688 - acc: 0.7776 - val_loss: 0.5017 - val_acc: 0.7647\n",
      "Epoch 5/5\n",
      "20000/20000 [==============================] - 47s 2ms/step - loss: 0.4412 - acc: 0.7937 - val_loss: 0.4832 - val_acc: 0.7760\n",
      "20000/20000 [==============================] - 14s 696us/step\n",
      "5000/5000 [==============================] - 3s 689us/step\n",
      "Training Accuracy:  0.825625\n",
      "Test Accuracy:  0.776\n",
      "Processing Time:  0:03:58.964066\n"
     ]
    }
   ],
   "source": [
    "print(\"Optimizer: \", optimizers[2])\n",
    "model3 = Sequential()\n",
    "model3.add(Conv2D(32, (2, 2), \n",
    "                 activation='relu', \n",
    "                 input_shape=X_train.shape[1:],\n",
    "                 padding='same'))\n",
    "model3.add(MaxPooling2D((2, 2)))\n",
    "model3.add(Conv2D(32, (2, 2), \n",
    "                 activation='relu', \n",
    "                 input_shape=X_train.shape[1:], \n",
    "                 padding='same'))\n",
    "model3.add(MaxPooling2D((2, 2)))\n",
    "model3.add(Flatten())\n",
    "model3.add(Dense(128, \n",
    "                activation='relu'))\n",
    "model3.add(Dense(2, \n",
    "                activation='sigmoid'))\n",
    "\n",
    "model3.compile(optimizer=optimizer_dict[optimizers[2]], loss='binary_crossentropy', metrics=['accuracy'])\n",
    "\n",
    "start = datetime.now()\n",
    "model3.fit(X_train, y_train, validation_data=(X_test, y_test), epochs=5)\n",
    "end = datetime.now()\n",
    "processing_time = end-start\n",
    "score_train,acc_train = model3.evaluate(X_train,y_train)\n",
    "score_test,acc_test = model3.evaluate(X_test,y_test)\n",
    "\n",
    "print(\"Training Accuracy: \", acc_train)\n",
    "print(\"Test Accuracy: \", acc_test)\n",
    "print(\"Processing Time: \", processing_time)\n",
    "\n",
    "optimizer_list.append(optimizers[2])\n",
    "train_acc_list.append(acc_train)\n",
    "test_acc_list.append(acc_test)\n",
    "proc_list.append(processing_time)"
   ]
  },
  {
   "cell_type": "markdown",
   "metadata": {},
   "source": [
    "### Model 4 Training - RMS Prop Optimizer with .0001 Learning Rate"
   ]
  },
  {
   "cell_type": "code",
   "execution_count": 26,
   "metadata": {},
   "outputs": [
    {
     "name": "stdout",
     "output_type": "stream",
     "text": [
      "Optimizer:  RMSProp_LR_.0001\n",
      "Train on 20000 samples, validate on 5000 samples\n",
      "Epoch 1/5\n",
      "20000/20000 [==============================] - 48s 2ms/step - loss: 0.6845 - acc: 0.5521 - val_loss: 0.6647 - val_acc: 0.5956\n",
      "Epoch 2/5\n",
      "20000/20000 [==============================] - 49s 2ms/step - loss: 0.6367 - acc: 0.6526 - val_loss: 0.6172 - val_acc: 0.6701\n",
      "Epoch 3/5\n",
      "20000/20000 [==============================] - 49s 2ms/step - loss: 0.6096 - acc: 0.6757 - val_loss: 0.6106 - val_acc: 0.6689\n",
      "Epoch 4/5\n",
      "20000/20000 [==============================] - 48s 2ms/step - loss: 0.5967 - acc: 0.6855 - val_loss: 0.5949 - val_acc: 0.6786\n",
      "Epoch 5/5\n",
      "20000/20000 [==============================] - 50s 3ms/step - loss: 0.5851 - acc: 0.6948 - val_loss: 0.5877 - val_acc: 0.6825\n",
      "20000/20000 [==============================] - 15s 736us/step\n",
      "5000/5000 [==============================] - 4s 746us/step\n",
      "Training Accuracy:  0.704425\n",
      "Test Accuracy:  0.6825\n",
      "Processing Time:  0:04:04.076358\n"
     ]
    }
   ],
   "source": [
    "print(\"Optimizer: \", optimizers[3])\n",
    "model4 = Sequential()\n",
    "model4.add(Conv2D(32, (2, 2), \n",
    "                 activation='relu', \n",
    "                 input_shape=X_train.shape[1:],\n",
    "                 padding='same'))\n",
    "model4.add(MaxPooling2D((2, 2)))\n",
    "model4.add(Conv2D(32, (2, 2), \n",
    "                 activation='relu', \n",
    "                 input_shape=X_train.shape[1:], \n",
    "                 padding='same'))\n",
    "model4.add(MaxPooling2D((2, 2)))\n",
    "model4.add(Flatten())\n",
    "model4.add(Dense(128, \n",
    "                activation='relu'))\n",
    "model4.add(Dense(2, \n",
    "                activation='sigmoid'))\n",
    "\n",
    "model4.compile(optimizer=optimizer_dict[optimizers[3]], loss='binary_crossentropy', metrics=['accuracy'])\n",
    "\n",
    "start = datetime.now()\n",
    "model4.fit(X_train, y_train, validation_data=(X_test, y_test), epochs=5)\n",
    "end = datetime.now()\n",
    "processing_time = end-start\n",
    "score_train,acc_train = model4.evaluate(X_train,y_train)\n",
    "score_test,acc_test = model4.evaluate(X_test,y_test)\n",
    "\n",
    "print(\"Training Accuracy: \", acc_train)\n",
    "print(\"Test Accuracy: \", acc_test)\n",
    "print(\"Processing Time: \", processing_time)\n",
    "\n",
    "optimizer_list.append(optimizers[3])\n",
    "train_acc_list.append(acc_train)\n",
    "test_acc_list.append(acc_test)\n",
    "proc_list.append(processing_time)"
   ]
  },
  {
   "cell_type": "markdown",
   "metadata": {},
   "source": [
    "### Model Performance Analysis"
   ]
  },
  {
   "cell_type": "code",
   "execution_count": 27,
   "metadata": {},
   "outputs": [],
   "source": [
    "performance_df = pd.DataFrame(columns = [\"Optimizer\",\n",
    "                                         \"Processing Time\", \n",
    "                                         \"Train Accuracy\", \n",
    "                                         \"Test Accuracy\"])"
   ]
  },
  {
   "cell_type": "code",
   "execution_count": 28,
   "metadata": {},
   "outputs": [],
   "source": [
    "performance_df['Optimizer'] = optimizer_list\n",
    "performance_df['Processing Time'] = proc_list\n",
    "performance_df['Train Accuracy'] = train_acc_list\n",
    "performance_df['Test Accuracy'] =  test_acc_list"
   ]
  },
  {
   "cell_type": "code",
   "execution_count": 29,
   "metadata": {},
   "outputs": [],
   "source": [
    "performance_df = performance_df.sort_values(by='Test Accuracy',ascending=False)"
   ]
  },
  {
   "cell_type": "code",
   "execution_count": 30,
   "metadata": {},
   "outputs": [
    {
     "data": {
      "text/html": [
       "<div>\n",
       "<style scoped>\n",
       "    .dataframe tbody tr th:only-of-type {\n",
       "        vertical-align: middle;\n",
       "    }\n",
       "\n",
       "    .dataframe tbody tr th {\n",
       "        vertical-align: top;\n",
       "    }\n",
       "\n",
       "    .dataframe thead th {\n",
       "        text-align: right;\n",
       "    }\n",
       "</style>\n",
       "<table border=\"1\" class=\"dataframe\">\n",
       "  <thead>\n",
       "    <tr style=\"text-align: right;\">\n",
       "      <th></th>\n",
       "      <th>Optimizer</th>\n",
       "      <th>Processing Time</th>\n",
       "      <th>Train Accuracy</th>\n",
       "      <th>Test Accuracy</th>\n",
       "    </tr>\n",
       "  </thead>\n",
       "  <tbody>\n",
       "    <tr>\n",
       "      <th>2</th>\n",
       "      <td>RMSProp_LR_.001</td>\n",
       "      <td>00:03:58.964066</td>\n",
       "      <td>0.825625</td>\n",
       "      <td>0.7760</td>\n",
       "    </tr>\n",
       "    <tr>\n",
       "      <th>1</th>\n",
       "      <td>Adam_LR_.0001</td>\n",
       "      <td>00:04:01.386216</td>\n",
       "      <td>0.725250</td>\n",
       "      <td>0.7124</td>\n",
       "    </tr>\n",
       "    <tr>\n",
       "      <th>0</th>\n",
       "      <td>Adam_LR_.001</td>\n",
       "      <td>00:04:01.874145</td>\n",
       "      <td>0.698200</td>\n",
       "      <td>0.6830</td>\n",
       "    </tr>\n",
       "    <tr>\n",
       "      <th>3</th>\n",
       "      <td>RMSProp_LR_.0001</td>\n",
       "      <td>00:04:04.076358</td>\n",
       "      <td>0.704425</td>\n",
       "      <td>0.6825</td>\n",
       "    </tr>\n",
       "  </tbody>\n",
       "</table>\n",
       "</div>"
      ],
      "text/plain": [
       "          Optimizer Processing Time  Train Accuracy  Test Accuracy\n",
       "2   RMSProp_LR_.001 00:03:58.964066        0.825625         0.7760\n",
       "1     Adam_LR_.0001 00:04:01.386216        0.725250         0.7124\n",
       "0      Adam_LR_.001 00:04:01.874145        0.698200         0.6830\n",
       "3  RMSProp_LR_.0001 00:04:04.076358        0.704425         0.6825"
      ]
     },
     "execution_count": 30,
     "metadata": {},
     "output_type": "execute_result"
    }
   ],
   "source": [
    "performance_df"
   ]
  },
  {
   "cell_type": "markdown",
   "metadata": {},
   "source": [
    "In our model competition, the RMSProp optimizer performed best overall both in-sample and out-of-sample.  What is interesting is that the second best performing model out-of-sample neither shared the optimizer nor the learning rate.   Our models took around 4-5 minutes to train overall, and we were able to achieve > 75% accuracy in terms of classification.  As a result, we would expect that our models would further improve given more computation time overall."
   ]
  },
  {
   "cell_type": "markdown",
   "metadata": {},
   "source": [
    "## Model Validation\n",
    "We willl first process the data in our test set.  Even though there are no labels, we can validate them visually and see what nuances our models are not able to capture."
   ]
  },
  {
   "cell_type": "code",
   "execution_count": null,
   "metadata": {},
   "outputs": [],
   "source": [
    "def process_test_data():\n",
    "    testing_data = []\n",
    "    for img in os.listdir(TEST_DIR):\n",
    "        path = os.path.join(TEST_DIR, img)\n",
    "        img_num = img.split('.')[0]\n",
    "        img = cv2.resize(cv2.imread(path, cv2.IMREAD_GRAYSCALE), (IMG_SIZE, IMG_SIZE))\n",
    "        testing_data.append([np.array(img), np.array(img_num)])\n",
    "    np.save(\"testing_data.npy\", testing_data)\n",
    "    return testing_data    "
   ]
  },
  {
   "cell_type": "code",
   "execution_count": 32,
   "metadata": {},
   "outputs": [],
   "source": [
    "# test_data = process_test_data()\n",
    "test_data = np.load(\"testing_data.npy\")"
   ]
  },
  {
   "cell_type": "code",
   "execution_count": 73,
   "metadata": {},
   "outputs": [],
   "source": [
    "def plot_color_image(image):\n",
    "    plt.imshow(image.astype(np.uint8),interpolation=\"nearest\")\n",
    "    plt.axis(\"off\")"
   ]
  },
  {
   "cell_type": "markdown",
   "metadata": {},
   "source": [
    "## Example 1 - Focusing on the Bigger Picture"
   ]
  },
  {
   "cell_type": "code",
   "execution_count": 75,
   "metadata": {},
   "outputs": [
    {
     "data": {
      "image/png": "[encoded data removed]",
      "text/plain": [
       "<Figure size 144x144 with 1 Axes>"
      ]
     },
     "metadata": {
      "needs_background": "light"
     },
     "output_type": "display_data"
    },
    {
     "data": {
      "text/plain": [
       "<Figure size 432x288 with 0 Axes>"
      ]
     },
     "metadata": {},
     "output_type": "display_data"
    }
   ],
   "source": [
    "plt.figure(figsize =[2,2])\n",
    "plot_color_image(test_data[50][0])\n",
    "plt.show()\n",
    "plt.tight_layout()"
   ]
  },
  {
   "cell_type": "code",
   "execution_count": 43,
   "metadata": {},
   "outputs": [
    {
     "data": {
      "text/plain": [
       "array([[1., 0.]], dtype=float32)"
      ]
     },
     "execution_count": 43,
     "metadata": {},
     "output_type": "execute_result"
    }
   ],
   "source": [
    "model1.predict(test_data[50][0].reshape(-1, IMG_SIZE, IMG_SIZE, 1))"
   ]
  },
  {
   "cell_type": "code",
   "execution_count": 44,
   "metadata": {},
   "outputs": [
    {
     "data": {
      "text/plain": [
       "array([[1., 0.]], dtype=float32)"
      ]
     },
     "execution_count": 44,
     "metadata": {},
     "output_type": "execute_result"
    }
   ],
   "source": [
    "model2.predict(test_data[50][0].reshape(-1, IMG_SIZE, IMG_SIZE, 1))"
   ]
  },
  {
   "cell_type": "code",
   "execution_count": 45,
   "metadata": {},
   "outputs": [
    {
     "data": {
      "text/plain": [
       "array([[1., 0.]], dtype=float32)"
      ]
     },
     "execution_count": 45,
     "metadata": {},
     "output_type": "execute_result"
    }
   ],
   "source": [
    "model3.predict(test_data[50][0].reshape(-1, IMG_SIZE, IMG_SIZE, 1))"
   ]
  },
  {
   "cell_type": "code",
   "execution_count": 46,
   "metadata": {},
   "outputs": [
    {
     "data": {
      "text/plain": [
       "array([[1., 0.]], dtype=float32)"
      ]
     },
     "execution_count": 46,
     "metadata": {},
     "output_type": "execute_result"
    }
   ],
   "source": [
    "model4.predict(test_data[50][0].reshape(-1, IMG_SIZE, IMG_SIZE, 1))"
   ]
  },
  {
   "cell_type": "markdown",
   "metadata": {},
   "source": [
    "All of our models were able to identify that there was indeed a dog in this picture.  This is despite the fact that the focus is actually on the boy holding the dog.  This shows some promise as our models appear to be somewhat robust against multiple objects in the image."
   ]
  },
  {
   "cell_type": "markdown",
   "metadata": {},
   "source": [
    "## Example 2 - Focusing on the Face and Ears"
   ]
  },
  {
   "cell_type": "code",
   "execution_count": 74,
   "metadata": {},
   "outputs": [
    {
     "data": {
      "image/png": "[encoded data removed]",
      "text/plain": [
       "<Figure size 144x144 with 1 Axes>"
      ]
     },
     "metadata": {
      "needs_background": "light"
     },
     "output_type": "display_data"
    },
    {
     "data": {
      "text/plain": [
       "<Figure size 432x288 with 0 Axes>"
      ]
     },
     "metadata": {},
     "output_type": "display_data"
    }
   ],
   "source": [
    "plt.figure(figsize =[2,2])\n",
    "plot_color_image(test_data[1300][0])\n",
    "plt.show()\n",
    "plt.tight_layout()"
   ]
  },
  {
   "cell_type": "code",
   "execution_count": 60,
   "metadata": {},
   "outputs": [
    {
     "data": {
      "text/plain": [
       "array([[1., 0.]], dtype=float32)"
      ]
     },
     "execution_count": 60,
     "metadata": {},
     "output_type": "execute_result"
    }
   ],
   "source": [
    "model1.predict(test_data[1300][0].reshape(-1, IMG_SIZE, IMG_SIZE, 1))"
   ]
  },
  {
   "cell_type": "code",
   "execution_count": 61,
   "metadata": {},
   "outputs": [
    {
     "data": {
      "text/plain": [
       "array([[1., 0.]], dtype=float32)"
      ]
     },
     "execution_count": 61,
     "metadata": {},
     "output_type": "execute_result"
    }
   ],
   "source": [
    "model2.predict(test_data[1300][0].reshape(-1, IMG_SIZE, IMG_SIZE, 1))"
   ]
  },
  {
   "cell_type": "code",
   "execution_count": 62,
   "metadata": {},
   "outputs": [
    {
     "data": {
      "text/plain": [
       "array([[0., 1.]], dtype=float32)"
      ]
     },
     "execution_count": 62,
     "metadata": {},
     "output_type": "execute_result"
    }
   ],
   "source": [
    "model3.predict(test_data[1300][0].reshape(-1, IMG_SIZE, IMG_SIZE, 1))"
   ]
  },
  {
   "cell_type": "code",
   "execution_count": 63,
   "metadata": {},
   "outputs": [
    {
     "data": {
      "text/plain": [
       "array([[1., 0.]], dtype=float32)"
      ]
     },
     "execution_count": 63,
     "metadata": {},
     "output_type": "execute_result"
    }
   ],
   "source": [
    "model4.predict(test_data[1300][0].reshape(-1, IMG_SIZE, IMG_SIZE, 1))"
   ]
  },
  {
   "cell_type": "markdown",
   "metadata": {},
   "source": [
    "In this example, we see that 3 of the 4 models incorrectly classified this as a dog.  Our best-performing model got it right, but it also likely points to a key reason why our RMSProp model with .001 learning rate outperforms.  In this picture, there is no face and the ears are not distinct.  This means that likely our third model is picking up on the animal's features in the body area."
   ]
  },
  {
   "cell_type": "markdown",
   "metadata": {},
   "source": [
    "### Conclusion\n",
    "Our recommendtion for the management problem based on our constrained image classification trainig is to go with our third model, RMSProp with .001 learning rate.  While we were not able to achieve > 90% accuracy, we were able to see several examples of what features the models may be narrowing in on.  Given more computate and time, we see evidence that the model results would further converge and further improve overall."
   ]
  }
 ],
 "metadata": {
  "kernelspec": {
   "display_name": "Python 3",
   "language": "python",
   "name": "python3"
  },
  "language_info": {
   "codemirror_mode": {
    "name": "ipython",
    "version": 3
   },
   "file_extension": ".py",
   "mimetype": "text/x-python",
   "name": "python",
   "nbconvert_exporter": "python",
   "pygments_lexer": "ipython3",
   "version": "3.6.4"
  }
 },
 "nbformat": 4,
 "nbformat_minor": 2
}
